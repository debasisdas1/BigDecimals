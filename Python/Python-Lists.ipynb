{
 "cells": [
  {
   "cell_type": "markdown",
   "metadata": {},
   "source": [
    "Lists are versatile data types that can be written as a list of comma separated values written between square brackets\n",
    "\n",
    "Lists can be indexed or sliced\n",
    "\n",
    "append()\tAdds an element at the end of the list\n",
    "\n",
    "clear()\tRemoves all the elements from the list\n",
    "\n",
    "copy()\tReturns a copy of the list\n",
    "\n",
    "count()\tReturns the number of elements with the specified value\n",
    "\n",
    "extend()\tAdd the elements of a list (or any iterable), to the end of the current list\n",
    "\n",
    "index()\tReturns the index of the first element with the specified value\n",
    "\n",
    "insert()\tAdds an element at the specified position\n",
    "\n",
    "pop()\tRemoves the element at the specified position\n",
    "\n",
    "remove()\tRemoves the item with the specified value\n",
    "\n",
    "reverse()\tReverses the order of the list\n",
    "\n",
    "sort()\tSorts the list"
   ]
  },
  {
   "cell_type": "code",
   "execution_count": 116,
   "metadata": {},
   "outputs": [
    {
     "name": "stdout",
     "output_type": "stream",
     "text": [
      "[0, 1, 2, 3, 4]\n",
      "[10, 11, 12, 13, 14]\n"
     ]
    }
   ],
   "source": [
    "# Creating a list from a range\n",
    "a = list(range(5))\n",
    "print(a)\n",
    "b = list(range(10,15))\n",
    "print(b)"
   ]
  },
  {
   "cell_type": "code",
   "execution_count": 49,
   "metadata": {},
   "outputs": [
    {
     "name": "stdout",
     "output_type": "stream",
     "text": [
      "[1, 3, 5, 7, 9]\n"
     ]
    }
   ],
   "source": [
    "odd_numbers = [1,3,5,7,9]\n",
    "print(odd_numbers)"
   ]
  },
  {
   "cell_type": "code",
   "execution_count": 123,
   "metadata": {},
   "outputs": [
    {
     "name": "stdout",
     "output_type": "stream",
     "text": [
      "1\n"
     ]
    }
   ],
   "source": [
    "# Indexing returns the item\n",
    "odd_numbers = [1,3,5,7,9]\n",
    "print(odd_numbers[0])"
   ]
  },
  {
   "cell_type": "code",
   "execution_count": 124,
   "metadata": {},
   "outputs": [
    {
     "name": "stdout",
     "output_type": "stream",
     "text": [
      "9\n"
     ]
    }
   ],
   "source": [
    "# retunrs the last element of the list\n",
    "odd_numbers = [1,3,5,7,9]\n",
    "print(odd_numbers[-1])"
   ]
  },
  {
   "cell_type": "code",
   "execution_count": 125,
   "metadata": {},
   "outputs": [
    {
     "name": "stdout",
     "output_type": "stream",
     "text": [
      "[1, 3, 5, 7, 9]\n"
     ]
    }
   ],
   "source": [
    "# Returns a shallow copy of the list\n",
    "odd_numbers = [1,3,5,7,9]\n",
    "print(odd_numbers[:])"
   ]
  },
  {
   "cell_type": "code",
   "execution_count": 126,
   "metadata": {},
   "outputs": [
    {
     "name": "stdout",
     "output_type": "stream",
     "text": [
      "[3, 5, 7, 9]\n"
     ]
    }
   ],
   "source": [
    "# Returns the list elements starting from index 1 to the end of the list\n",
    "odd_numbers = [1,3,5,7,9]\n",
    "print(odd_numbers[1:])"
   ]
  },
  {
   "cell_type": "code",
   "execution_count": 127,
   "metadata": {},
   "outputs": [
    {
     "name": "stdout",
     "output_type": "stream",
     "text": [
      "[5]\n"
     ]
    }
   ],
   "source": [
    "# Starting from index 2 till index 3 (not including index 3)\n",
    "odd_numbers = [1,3,5,7,9]\n",
    "print(odd_numbers[2:3])"
   ]
  },
  {
   "cell_type": "code",
   "execution_count": 122,
   "metadata": {},
   "outputs": [
    {
     "name": "stdout",
     "output_type": "stream",
     "text": [
      "[1, 3, 5, 7, 9, 11, 13]\n"
     ]
    }
   ],
   "source": [
    "# Concatenating two lists\n",
    "odd_numbers = [1,3,5,7,9]\n",
    "odd_numbers = odd_numbers+[11,13]\n",
    "print(odd_numbers)"
   ]
  },
  {
   "cell_type": "code",
   "execution_count": 82,
   "metadata": {},
   "outputs": [
    {
     "name": "stdout",
     "output_type": "stream",
     "text": [
      "2 exists in list\n"
     ]
    }
   ],
   "source": [
    "# Check if an item exists in a list\n",
    "a = [1,2,3,4,5]\n",
    "if 2 in a:\n",
    "    print(\"2 exists in list\")\n",
    "else:\n",
    "    print(\"2 does not exist in list\")"
   ]
  },
  {
   "cell_type": "code",
   "execution_count": 83,
   "metadata": {},
   "outputs": [
    {
     "name": "stdout",
     "output_type": "stream",
     "text": [
      "[99, 2, 3, 4]\n"
     ]
    }
   ],
   "source": [
    "# Change Item Value in list\n",
    "a = [1,2,3,4]\n",
    "a[0] = 99\n",
    "print(a)"
   ]
  },
  {
   "cell_type": "code",
   "execution_count": 84,
   "metadata": {},
   "outputs": [
    {
     "name": "stdout",
     "output_type": "stream",
     "text": [
      "[1, 99, 2, 3, 4]\n"
     ]
    }
   ],
   "source": [
    "# Insert Item in list\n",
    "a = [1,2,3,4]\n",
    "# Insert 99 at index 1\n",
    "a.insert(1,99)\n",
    "print(a)"
   ]
  },
  {
   "cell_type": "code",
   "execution_count": 86,
   "metadata": {},
   "outputs": [
    {
     "name": "stdout",
     "output_type": "stream",
     "text": [
      "[1, 2, 3, 4, 5, 6, 7, 8]\n",
      "[1, 2, 3, 4, 5, 6, 7, 8, 9, 10]\n"
     ]
    }
   ],
   "source": [
    "# List Extend\n",
    "a = [1,2,3,4]\n",
    "b = [5,6,7,8]\n",
    "a.extend(b)\n",
    "print(a)\n",
    "# Extend a list by adding a tuple\n",
    "a.extend((9,10))\n",
    "print(a)"
   ]
  },
  {
   "cell_type": "code",
   "execution_count": 92,
   "metadata": {},
   "outputs": [
    {
     "name": "stdout",
     "output_type": "stream",
     "text": [
      "[2, 3, 4, 1]\n",
      "[2, 3, 4]\n",
      "[2, 4]\n",
      "[2]\n",
      "[]\n"
     ]
    }
   ],
   "source": [
    "# Remove items from list\n",
    "a = [1,2,3,4,1]\n",
    "a.remove(1)\n",
    "print(a)\n",
    "a.remove(1)\n",
    "print(a)\n",
    "\n",
    "# Remove item at index\n",
    "a.pop(1)\n",
    "print(a)\n",
    "a.pop()\n",
    "print(a)\n",
    "\n",
    "# Clear the list\n",
    "a.clear()\n",
    "print(a)"
   ]
  },
  {
   "cell_type": "code",
   "execution_count": 128,
   "metadata": {},
   "outputs": [
    {
     "name": "stdout",
     "output_type": "stream",
     "text": [
      "Returns the first 2 elements  [1, 3]\n",
      "Returns the last two elements =  [7, 9]\n",
      "Returns all the elements but the last 2 elements [1, 3, 5]\n"
     ]
    }
   ],
   "source": [
    "# List Slices\n",
    "odd_numbers = [1,3,5,7,9]\n",
    "print(\"Returns the first 2 elements \",odd_numbers[:2])\n",
    "print(\"Returns the last two elements = \",odd_numbers[-2:])\n",
    "print(\"Returns all the elements but the last 2 elements\", odd_numbers[:-2])"
   ]
  },
  {
   "cell_type": "code",
   "execution_count": 130,
   "metadata": {},
   "outputs": [
    {
     "name": "stdout",
     "output_type": "stream",
     "text": [
      "After removing the last 2 elements [1, 3, 5]\n"
     ]
    }
   ],
   "source": [
    "odd_numbers = [1,3,5,7,9]\n",
    "odd_numbers[-2:] = []\n",
    "print(\"After removing the last 2 elements\",odd_numbers)"
   ]
  },
  {
   "cell_type": "code",
   "execution_count": 81,
   "metadata": {},
   "outputs": [
    {
     "name": "stdout",
     "output_type": "stream",
     "text": [
      "[2, 3, 4, 5, 6, 7]\n",
      "[2, 3, 6, 7]\n"
     ]
    }
   ],
   "source": [
    "# Delete Elements in a list\n",
    "items = [1,2,3,4,5,6,7]\n",
    "del items[0]\n",
    "print(items)\n",
    "\n",
    "del items[2:4]\n",
    "print(items)"
   ]
  },
  {
   "cell_type": "code",
   "execution_count": 59,
   "metadata": {},
   "outputs": [
    {
     "name": "stdout",
     "output_type": "stream",
     "text": [
      "[['a', 'b', 'c'], [1, 2, 3]]\n",
      "['a', 'b', 'c']\n",
      "b\n"
     ]
    }
   ],
   "source": [
    "# Nested Lists\n",
    "a = ['a','b','c']\n",
    "b = [1,2,3]\n",
    "c = [a,b]\n",
    "print(c)\n",
    "print(c[0])\n",
    "print(c[0][1])"
   ]
  },
  {
   "cell_type": "markdown",
   "metadata": {},
   "source": [
    "### Using Lists as Queue"
   ]
  },
  {
   "cell_type": "code",
   "execution_count": 6,
   "metadata": {},
   "outputs": [
    {
     "name": "stdout",
     "output_type": "stream",
     "text": [
      "deque(['John', 'Jane', 'Mary'])\n",
      "deque(['John', 'Jane', 'Mary', 'Bill', 'Smith'])\n",
      "John was popped\n",
      "deque(['Jane', 'Mary', 'Bill', 'Smith'])\n"
     ]
    }
   ],
   "source": [
    "from collections import deque\n",
    "queue = deque([\"John\",\"Jane\",\"Mary\"])\n",
    "print(queue)\n",
    "queue.append(\"Bill\")\n",
    "queue.append(\"Smith\")\n",
    "print(queue)\n",
    "pop1 = queue.popleft()\n",
    "print(f\"{pop1} was popped\")\n",
    "print(queue)"
   ]
  },
  {
   "cell_type": "markdown",
   "metadata": {},
   "source": [
    "### Using Lists as Stack"
   ]
  },
  {
   "cell_type": "code",
   "execution_count": 15,
   "metadata": {},
   "outputs": [
    {
     "name": "stdout",
     "output_type": "stream",
     "text": [
      "<class 'list'>\n",
      "Before pop -  [1, 2, 3, 4, 5, 6]\n",
      "After Pop -  [1, 2, 3, 4, 5]\n",
      "After second Pop -  [1, 2, 3, 4]\n"
     ]
    }
   ],
   "source": [
    "#Last in First Out\n",
    "stack = [1,2,3,4]\n",
    "print(type(stack))\n",
    "stack.append(5)\n",
    "stack.append(6)\n",
    "print(\"Before pop - \",stack)\n",
    "stack.pop()\n",
    "print(\"After Pop - \",stack)\n",
    "stack.pop()\n",
    "print(\"After second Pop - \",stack)"
   ]
  },
  {
   "cell_type": "markdown",
   "metadata": {},
   "source": [
    "### List Comprehensions"
   ]
  },
  {
   "cell_type": "code",
   "execution_count": 63,
   "metadata": {},
   "outputs": [
    {
     "name": "stdout",
     "output_type": "stream",
     "text": [
      "[1, 4, 9, 16]\n",
      "['JOHN', 'JANE']\n",
      "['JOHN', 'JANE']\n"
     ]
    }
   ],
   "source": [
    "numbers = [1,2,3,4]\n",
    "squares = [x**2 for x in numbers]\n",
    "print(squares)\n",
    "\n",
    "names = [\"john\",\"jane\"]\n",
    "upper_names = [x.upper() for x in names]\n",
    "print(upper_names)\n",
    "\n",
    "upper_names_lambda = list(map(lambda x:x.upper(),names))\n",
    "print(upper_names_lambda)"
   ]
  },
  {
   "cell_type": "code",
   "execution_count": 64,
   "metadata": {},
   "outputs": [
    {
     "name": "stdout",
     "output_type": "stream",
     "text": [
      "[(1, 2), (1, 3), (1, 4), (2, 3), (2, 4), (3, 2), (3, 4)]\n"
     ]
    }
   ],
   "source": [
    "# Given two lists find all combination of items excluding combination which are equal\n",
    "a = [1,2,3]\n",
    "b = [2,3,4]\n",
    "c = [(x,y) for x in a for y in b if x != y]\n",
    "print(c)"
   ]
  },
  {
   "cell_type": "code",
   "execution_count": 65,
   "metadata": {},
   "outputs": [
    {
     "name": "stdout",
     "output_type": "stream",
     "text": [
      "[2, 4, 6, 8]\n"
     ]
    }
   ],
   "source": [
    "# Filter only even numbers\n",
    "x = [1,2,3,4,5,6,7,8,9]\n",
    "even = [a for a in x if a%2 == 0]\n",
    "print(even)\n"
   ]
  },
  {
   "cell_type": "code",
   "execution_count": 68,
   "metadata": {},
   "outputs": [
    {
     "name": "stdout",
     "output_type": "stream",
     "text": [
      "[(0, 0), (1, 1), (2, 8), (3, 27), (4, 64)]\n"
     ]
    }
   ],
   "source": [
    "# Create a list of tuples of the first 5 numbers and there cubes\n",
    "a = [(x,x**3) for x in range(5)]\n",
    "print(a)"
   ]
  },
  {
   "cell_type": "code",
   "execution_count": 72,
   "metadata": {},
   "outputs": [
    {
     "name": "stdout",
     "output_type": "stream",
     "text": [
      "[1, 2, 3, 4, 5, 6, 7, 8]\n"
     ]
    }
   ],
   "source": [
    "# Flatten a list\n",
    "a = [[1,2,3],[4,5,6],[7,8]]\n",
    "flat_list = [num for  element in a for num in element]\n",
    "print(flat_list)"
   ]
  },
  {
   "cell_type": "code",
   "execution_count": 78,
   "metadata": {},
   "outputs": [
    {
     "name": "stdout",
     "output_type": "stream",
     "text": [
      "Before transpose  [[1, 2, 3], [4, 5, 6], [7, 8, 9]]\n",
      "After transpose [[1, 4, 7], [2, 5, 8], [3, 6, 9]]\n",
      "Transpose using zip  [(1, 4, 7), (2, 5, 8), (3, 6, 9)]\n"
     ]
    }
   ],
   "source": [
    "# Transpose a matrix\n",
    "a = [[1,2,3],[4,5,6],[7,8,9]]\n",
    "transpose_a = [[row[i] for row in a] for i in range(3)]\n",
    "print(\"Before transpose \",a)\n",
    "print(\"After transpose\", transpose_a)\n",
    "\n",
    "# Transpose using Zip Function\n",
    "transpose_a_1 = list(zip(*a))\n",
    "print(\"Transpose using zip \", transpose_a_1)"
   ]
  },
  {
   "cell_type": "code",
   "execution_count": 93,
   "metadata": {},
   "outputs": [
    {
     "name": "stdout",
     "output_type": "stream",
     "text": [
      "['apple', 'banana', 'mango']\n"
     ]
    }
   ],
   "source": [
    "fruits = [\"apple\", \"banana\", \"cherry\", \"kiwi\", \"mango\"]\n",
    "newlist = [x for x in fruits if \"a\" in x]\n",
    "print(newlist)"
   ]
  },
  {
   "cell_type": "code",
   "execution_count": 97,
   "metadata": {},
   "outputs": [
    {
     "name": "stdout",
     "output_type": "stream",
     "text": [
      "[2, 5, 10, 20, 40]\n",
      "[40, 20, 10, 5, 2]\n"
     ]
    }
   ],
   "source": [
    "# Sort\n",
    "a = [10,5,20,2,40]\n",
    "a.sort()\n",
    "print(a)\n",
    "\n",
    "# Sort Descending\n",
    "a.sort(reverse=True)\n",
    "print(a)"
   ]
  },
  {
   "cell_type": "code",
   "execution_count": 99,
   "metadata": {},
   "outputs": [
    {
     "name": "stdout",
     "output_type": "stream",
     "text": [
      "[50, 65, 23, 82, 100]\n"
     ]
    }
   ],
   "source": [
    "# Sort a list based on its proximity to a given number\n",
    "def myfunc(n):\n",
    "  return abs(n - 50)\n",
    "\n",
    "thislist = [100, 50, 65, 82, 23]\n",
    "thislist.sort(key = myfunc)\n",
    "print(thislist)"
   ]
  },
  {
   "cell_type": "code",
   "execution_count": 101,
   "metadata": {},
   "outputs": [
    {
     "name": "stdout",
     "output_type": "stream",
     "text": [
      "Name = John, Emp Id = 1, Salary = 10\n",
      "Name = Jane, Emp Id = 2, Salary = 21\n",
      "Name = Mary, Emp Id = 3, Salary = 11\n"
     ]
    }
   ],
   "source": [
    "# Iterate over multiple list at the same time\n",
    "empId = [1,2,3]\n",
    "name = [\"John\",\"Jane\",\"Mary\"]\n",
    "salary = [10,21,11]\n",
    "z = zip(empId, name, salary)\n",
    "for empId, name, salary in z:\n",
    "    print(\"Name = %s, Emp Id = %s, Salary = %s\"%(name,empId,salary))"
   ]
  },
  {
   "cell_type": "code",
   "execution_count": 103,
   "metadata": {},
   "outputs": [
    {
     "name": "stdout",
     "output_type": "stream",
     "text": [
      "81\n"
     ]
    }
   ],
   "source": [
    "# Reduce a list\n",
    "from functools import reduce\n",
    "a = [100,10,5,4]\n",
    "def subtract(a,b):\n",
    "    return a-b\n",
    "\n",
    "value = reduce(subtract,a)\n",
    "print(value)"
   ]
  },
  {
   "cell_type": "code",
   "execution_count": 104,
   "metadata": {},
   "outputs": [
    {
     "name": "stdout",
     "output_type": "stream",
     "text": [
      "[0, 1, 2, 3]\n"
     ]
    }
   ],
   "source": [
    "# Remove negatives using filter function\n",
    "def removeNeg(x):\n",
    "    return True if x>=0 else False\n",
    "\n",
    "a = [-3,-2,-1,0,1,2,3]\n",
    "b = [x for x in filter(removeNeg,a)]\n",
    "print(b)"
   ]
  },
  {
   "cell_type": "code",
   "execution_count": 105,
   "metadata": {},
   "outputs": [
    {
     "name": "stdout",
     "output_type": "stream",
     "text": [
      "True\n",
      "False\n"
     ]
    }
   ],
   "source": [
    "# List Comprehension using any function\n",
    "li1 = [1,2,3]\n",
    "li2 = [1,3]\n",
    "val1 = any(i % 2 == 0 for i in li1) \n",
    "val2 = any(i % 2 == 0 for i in li2) \n",
    "print(val1)\n",
    "print(val2)"
   ]
  },
  {
   "cell_type": "code",
   "execution_count": 106,
   "metadata": {},
   "outputs": [
    {
     "name": "stdout",
     "output_type": "stream",
     "text": [
      "False\n",
      "True\n"
     ]
    }
   ],
   "source": [
    "# List Comprehension using all function\n",
    "# all() can also be used with a list comprehension to return True only if all values in the returned list are True\n",
    "li1 = [2,3,4]\n",
    "li2 = [2,4]\n",
    "val1 = all(i % 2 == 0 for i in li1) #=> False\n",
    "val2 = all(i % 2 == 0 for i in li2) #=> True\n",
    "print(val1)\n",
    "print(val2)\n"
   ]
  },
  {
   "cell_type": "code",
   "execution_count": 112,
   "metadata": {},
   "outputs": [
    {
     "name": "stdout",
     "output_type": "stream",
     "text": [
      "[1, 2, 3, 99, 100]\n",
      "[1, 2, 3, 99, 100]\n"
     ]
    }
   ],
   "source": [
    "# reverse() reverses the list in place. reversed() returns an iterable of the list in reverse order.\n",
    "# sort() modifies the list in place. sorted() returns a new list in reverse order.\n",
    "\n",
    "a = [1,100,2,3,99]\n",
    "a.sort()\n",
    "print(a)\n",
    "b = sorted(a)\n",
    "print(b)"
   ]
  },
  {
   "cell_type": "code",
   "execution_count": null,
   "metadata": {},
   "outputs": [],
   "source": []
  }
 ],
 "metadata": {
  "kernelspec": {
   "display_name": "Python 3",
   "language": "python",
   "name": "python3"
  },
  "language_info": {
   "codemirror_mode": {
    "name": "ipython",
    "version": 3
   },
   "file_extension": ".py",
   "mimetype": "text/x-python",
   "name": "python",
   "nbconvert_exporter": "python",
   "pygments_lexer": "ipython3",
   "version": "3.8.5"
  }
 },
 "nbformat": 4,
 "nbformat_minor": 4
}
