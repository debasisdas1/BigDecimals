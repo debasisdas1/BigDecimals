{
 "cells": [
  {
   "cell_type": "code",
   "execution_count": 10,
   "metadata": {},
   "outputs": [
    {
     "name": "stdout",
     "output_type": "stream",
     "text": [
      "(36, 5)\n",
      "  region country   car  week  Sales_unit\n",
      "0    AMR     USA  Audi  WK_1        1787\n",
      "1    AMR     USA  Audi  WK_2         186\n",
      "2    AMR     USA  Audi  WK_3        1046\n",
      "3    AMR     USA   BMW  WK_1        1978\n",
      "4    AMR     USA   BMW  WK_2        1345\n"
     ]
    }
   ],
   "source": [
    "import pandas as pd\n",
    "import numpy as np\n",
    "import random\n",
    "\n",
    "# Lets create the DataFrame\n",
    "regionCountry = {\"AMR\":[\"USA\",\"Canada\"],\"EUROPE\":[\"Austria\",\"Belgium\"]}\n",
    "cars = [\"Audi\",\"BMW\",\"Mercedes\"]\n",
    "weeks = [\"WK_1\",\"WK_2\",\"WK_3\"]\n",
    "salesData = []\n",
    "for region,countries in regionCountry.items():\n",
    "    for country in countries:\n",
    "        for car in cars:\n",
    "            for week in weeks:\n",
    "                salesRecord = {\"region\":region,\"country\":country,\"car\":car,\"week\":week}\n",
    "                salesRecord[\"Sales_unit\"] = random.randint(100,2000)\n",
    "                salesData.append(salesRecord)\n",
    "             \n",
    "df = pd.DataFrame(salesData)\n",
    "print(df.shape)\n",
    "print(df.head(5))\n"
   ]
  },
  {
   "cell_type": "markdown",
   "metadata": {},
   "source": [
    "### Pivoting on 2 columns , car sales will roll up"
   ]
  },
  {
   "cell_type": "code",
   "execution_count": 11,
   "metadata": {},
   "outputs": [
    {
     "name": "stdout",
     "output_type": "stream",
     "text": [
      "                         Sales_unit\n",
      "region country car                 \n",
      "AMR    Canada  Audi            3964\n",
      "               BMW             3583\n",
      "               Mercedes        2332\n",
      "       USA     Audi            3019\n",
      "               BMW             4801\n",
      "               Mercedes        3656\n",
      "EUROPE Austria Audi            4794\n",
      "               BMW             3380\n",
      "               Mercedes        1687\n",
      "       Belgium Audi            1975\n",
      "               BMW             4367\n",
      "               Mercedes        4153\n"
     ]
    }
   ],
   "source": [
    "df1 = pd.pivot_table(df,index=[\"region\",\"country\",\"car\"],aggfunc=np.sum)\n",
    "print(df1)"
   ]
  },
  {
   "cell_type": "code",
   "execution_count": 12,
   "metadata": {},
   "outputs": [
    {
     "name": "stdout",
     "output_type": "stream",
     "text": [
      "               Sales_unit                                                   \n",
      "car                  Audi               BMW             Mercedes            \n",
      "week                 WK_1  WK_2  WK_3  WK_1  WK_2  WK_3     WK_1  WK_2  WK_3\n",
      "region country                                                              \n",
      "AMR    Canada        1008   993  1963  1741   533  1309     1580   238   514\n",
      "       USA           1787   186  1046  1978  1345  1478     1445   617  1594\n",
      "EUROPE Austria        992  1838  1964   844  1254  1282      975   152   560\n",
      "       Belgium        660  1121   194  1665  1993   709     1929  1431   793\n"
     ]
    }
   ],
   "source": [
    "# Multi Level Column Pivot\n",
    "df3 = pd.pivot_table(df,index=[\"region\",\"country\"],columns=[\"car\",\"week\"],aggfunc=np.sum)\n",
    "print(df3)"
   ]
  },
  {
   "cell_type": "code",
   "execution_count": 14,
   "metadata": {},
   "outputs": [
    {
     "name": "stdout",
     "output_type": "stream",
     "text": [
      "               Sales_unit               \n",
      "car                  Audi   BMW Mercedes\n",
      "region country                          \n",
      "AMR    Canada        3964  3583     2332\n",
      "       USA           3019  4801     3656\n",
      "EUROPE Austria       4794  3380     1687\n",
      "       Belgium       1975  4367     4153\n"
     ]
    }
   ],
   "source": [
    "df4 = pd.pivot_table(df,index=[\"region\",\"country\"],columns=[\"car\"],aggfunc=np.sum)\n",
    "print(df4)"
   ]
  },
  {
   "cell_type": "code",
   "execution_count": 15,
   "metadata": {},
   "outputs": [
    {
     "name": "stdout",
     "output_type": "stream",
     "text": [
      "               Sales_unit                     \n",
      "week                 WK_1   WK_2   WK_3  Total\n",
      "region country                                \n",
      "AMR    Canada        4329   1764   3786   9879\n",
      "       USA           5210   2148   4118  11476\n",
      "EUROPE Austria       2811   3244   3806   9861\n",
      "       Belgium       4254   4545   1696  10495\n",
      "Total               16604  11701  13406  41711\n"
     ]
    }
   ],
   "source": [
    "# Adding a total column to the pivot table\n",
    "df5 = pd.pivot_table(df,index=[\"region\",\"country\"],columns=[\"week\"], aggfunc=np.sum,margins = True, margins_name='Total')\n",
    "print(df5)\n"
   ]
  },
  {
   "cell_type": "code",
   "execution_count": 16,
   "metadata": {},
   "outputs": [
    {
     "name": "stdout",
     "output_type": "stream",
     "text": [
      "                       mean                                           sum  \\\n",
      "car                    Audi          BMW     Mercedes          Agg   Audi   \n",
      "region country                                                              \n",
      "AMR    Canada   1321.333333  1194.333333   777.333333  1097.666667   3964   \n",
      "       USA      1006.333333  1600.333333  1218.666667  1275.111111   3019   \n",
      "EUROPE Austria  1598.000000  1126.666667   562.333333  1095.666667   4794   \n",
      "       Belgium   658.333333  1455.666667  1384.333333  1166.111111   1975   \n",
      "Agg             1146.000000  1344.250000   985.666667  1158.638889  13752   \n",
      "\n",
      "                                       \n",
      "car               BMW Mercedes    Agg  \n",
      "region country                         \n",
      "AMR    Canada    3583     2332   9879  \n",
      "       USA       4801     3656  11476  \n",
      "EUROPE Austria   3380     1687   9861  \n",
      "       Belgium   4367     4153  10495  \n",
      "Agg             16131    11828  41711  \n"
     ]
    }
   ],
   "source": [
    "df6 = df.pivot_table(values='Sales_unit', index = ['region','country'], \\\n",
    "                     columns= ['car'], \\\n",
    "                     aggfunc= ['mean','sum'], \\\n",
    "                     margins = True, margins_name='Agg')\n",
    "print(df6)"
   ]
  },
  {
   "cell_type": "markdown",
   "metadata": {},
   "source": [
    "# DataFrame Filter"
   ]
  },
  {
   "cell_type": "code",
   "execution_count": 28,
   "metadata": {},
   "outputs": [
    {
     "name": "stdout",
     "output_type": "stream",
     "text": [
      "   region country   car  week  Sales_unit\n",
      "0     AMR     USA  Audi  WK_1        1787\n",
      "1     AMR     USA  Audi  WK_2         186\n",
      "2     AMR     USA  Audi  WK_3        1046\n",
      "9     AMR  Canada  Audi  WK_1        1008\n",
      "10    AMR  Canada  Audi  WK_2         993\n",
      "11    AMR  Canada  Audi  WK_3        1963\n"
     ]
    }
   ],
   "source": [
    "df7 = df[(df[\"region\"]=='AMR') & (df['car'] == 'Audi')]\n",
    "print(df7)"
   ]
  },
  {
   "cell_type": "markdown",
   "metadata": {},
   "source": [
    "# Group By"
   ]
  },
  {
   "cell_type": "code",
   "execution_count": 18,
   "metadata": {},
   "outputs": [
    {
     "name": "stdout",
     "output_type": "stream",
     "text": [
      "                Sales_unit\n",
      "region country            \n",
      "AMR    Canada         9879\n",
      "       USA           11476\n",
      "EUROPE Austria        9861\n",
      "       Belgium       10495\n"
     ]
    }
   ],
   "source": [
    "gdf1 = df.groupby(['region','country']).sum()\n",
    "print(gdf1)"
   ]
  },
  {
   "cell_type": "code",
   "execution_count": 19,
   "metadata": {},
   "outputs": [
    {
     "name": "stdout",
     "output_type": "stream",
     "text": [
      "                         Sales_unit\n",
      "region country car                 \n",
      "AMR    Canada  Audi            3964\n",
      "               BMW             3583\n",
      "               Mercedes        2332\n",
      "       USA     Audi            3019\n",
      "               BMW             4801\n",
      "               Mercedes        3656\n",
      "EUROPE Austria Audi            4794\n",
      "               BMW             3380\n",
      "               Mercedes        1687\n",
      "       Belgium Audi            1975\n",
      "               BMW             4367\n",
      "               Mercedes        4153\n"
     ]
    }
   ],
   "source": [
    "gdf2 = df.groupby(['region',\"country\",\"car\"],sort=True).sum()\n",
    "print(gdf2)"
   ]
  },
  {
   "cell_type": "code",
   "execution_count": 20,
   "metadata": {},
   "outputs": [
    {
     "name": "stdout",
     "output_type": "stream",
     "text": [
      "  region country   car  week  Sales_unit\n",
      "0    AMR     USA  Audi  WK_1        1787\n",
      "1    AMR     USA  Audi  WK_2         186\n",
      "2    AMR     USA  Audi  WK_3        1046\n"
     ]
    }
   ],
   "source": [
    "# groupby and get_group\n",
    "\n",
    "gdf3 = df.groupby([\"country\",\"car\"]).get_group(('USA','Audi'))\n",
    "print(gdf3)"
   ]
  },
  {
   "cell_type": "code",
   "execution_count": 21,
   "metadata": {},
   "outputs": [
    {
     "name": "stdout",
     "output_type": "stream",
     "text": [
      "   region country   car  week  Sales_unit\n",
      "0     AMR     USA  Audi  WK_1        1787\n",
      "1     AMR     USA  Audi  WK_2         186\n",
      "2     AMR     USA  Audi  WK_3        1046\n",
      "9     AMR  Canada  Audi  WK_1        1008\n",
      "10    AMR  Canada  Audi  WK_2         993\n",
      "11    AMR  Canada  Audi  WK_3        1963\n"
     ]
    }
   ],
   "source": [
    "gdf4 = df.groupby([\"region\",\"car\"]).get_group(('AMR','Audi'))\n",
    "print(gdf4)"
   ]
  },
  {
   "cell_type": "code",
   "execution_count": 22,
   "metadata": {},
   "outputs": [
    {
     "name": "stdout",
     "output_type": "stream",
     "text": [
      "                 Sales_unit\n",
      "region car                 \n",
      "AMR    Audi            6983\n",
      "       BMW             8384\n",
      "       Mercedes        5988\n",
      "EUROPE Audi            6769\n",
      "       BMW             7747\n",
      "       Mercedes        5840\n"
     ]
    }
   ],
   "source": [
    "# Using Numpy Functions for groupby aggregates\n",
    "gdf5 = df.groupby(['region','car']).aggregate(np.sum)\n",
    "print(gdf5)"
   ]
  },
  {
   "cell_type": "code",
   "execution_count": 23,
   "metadata": {},
   "outputs": [
    {
     "name": "stdout",
     "output_type": "stream",
     "text": [
      "                Sales_unit             \n",
      "                       sum         mean\n",
      "region car                             \n",
      "AMR    Audi           6983  1163.833333\n",
      "       BMW            8384  1397.333333\n",
      "       Mercedes       5988   998.000000\n",
      "EUROPE Audi           6769  1128.166667\n",
      "       BMW            7747  1291.166667\n",
      "       Mercedes       5840   973.333333\n"
     ]
    }
   ],
   "source": [
    "# Using Multiple Aggregate functions in DataFrame groupby\n",
    "\n",
    "gdf6 = df.groupby(['region','car']).aggregate([np.sum,np.mean])\n",
    "print(gdf6)\n"
   ]
  },
  {
   "cell_type": "markdown",
   "metadata": {},
   "source": [
    "# Query"
   ]
  },
  {
   "cell_type": "code",
   "execution_count": 24,
   "metadata": {},
   "outputs": [
    {
     "name": "stdout",
     "output_type": "stream",
     "text": [
      "  region country   car  week  Sales_unit\n",
      "0    AMR     USA  Audi  WK_1        1787\n",
      "1    AMR     USA  Audi  WK_2         186\n",
      "2    AMR     USA  Audi  WK_3        1046\n"
     ]
    }
   ],
   "source": [
    "qdf1 = df[(df.car == 'Audi') & (df.country == 'USA')]\n",
    "print(qdf1)"
   ]
  },
  {
   "cell_type": "code",
   "execution_count": 25,
   "metadata": {},
   "outputs": [
    {
     "name": "stdout",
     "output_type": "stream",
     "text": [
      "  region country   car  week  Sales_unit\n",
      "0    AMR     USA  Audi  WK_1        1787\n",
      "1    AMR     USA  Audi  WK_2         186\n",
      "2    AMR     USA  Audi  WK_3        1046\n"
     ]
    }
   ],
   "source": [
    "qdf2 = df.query(\"car == 'Audi' & country == 'USA'\")\n",
    "print(qdf2)"
   ]
  },
  {
   "cell_type": "code",
   "execution_count": null,
   "metadata": {},
   "outputs": [],
   "source": []
  }
 ],
 "metadata": {
  "kernelspec": {
   "display_name": "Python 3",
   "language": "python",
   "name": "python3"
  },
  "language_info": {
   "codemirror_mode": {
    "name": "ipython",
    "version": 3
   },
   "file_extension": ".py",
   "mimetype": "text/x-python",
   "name": "python",
   "nbconvert_exporter": "python",
   "pygments_lexer": "ipython3",
   "version": "3.8.5"
  }
 },
 "nbformat": 4,
 "nbformat_minor": 4
}
