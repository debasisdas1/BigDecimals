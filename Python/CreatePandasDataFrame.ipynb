{
 "cells": [
  {
   "cell_type": "code",
   "execution_count": 2,
   "metadata": {},
   "outputs": [],
   "source": [
    "import pandas as pd\n",
    "import numpy as np\n",
    "import random"
   ]
  },
  {
   "cell_type": "markdown",
   "metadata": {},
   "source": [
    "## Create DataFrames"
   ]
  },
  {
   "cell_type": "markdown",
   "metadata": {},
   "source": [
    "pd.read_csv(filename) | From a CSV file\n",
    "\n",
    "pd.read_table(filename) | From a delimited text file (like TSV)\n",
    "\n",
    "pd.read_excel(filename) | From an Excel file\n",
    "\n",
    "pd.read_sql(query, connection_object) | Read from a SQL table/database\n",
    "\n",
    "pd.read_json(json_string) | Read from a JSON formatted string, URL or file.\n",
    "\n",
    "pd.read_html(url) | Parses an html URL, string or file and extracts tables to a list of \n",
    "dataframes\n",
    "\n",
    "pd.read_clipboard() | Takes the contents of your clipboard and passes it to read_table()\n",
    "\n",
    "pd.DataFrame(dict) | From a dict, keys for columns names, values for data as lists"
   ]
  },
  {
   "cell_type": "code",
   "execution_count": 5,
   "metadata": {},
   "outputs": [
    {
     "name": "stdout",
     "output_type": "stream",
     "text": [
      "    Region  Country Product  WK_1  WK_2  WK_3  Wk_4\n",
      "0  America      USA  Laptop  1241  1160  1929  1174\n",
      "1  America      USA   Phone  1098  1092  1089  1819\n",
      "2  America   Canada  Laptop  1441  1099  1950  1394\n",
      "3  America   Canada   Phone  1990  1057  1656  1060\n",
      "4   Europe  Belgium  Laptop  1084  1116  1002  1566\n",
      "5   Europe  Belgium   Phone  1574  1958  1793  1213\n",
      "6   Europe  Finland  Laptop  1325  1374  1300  1579\n",
      "7   Europe  Finland   Phone  1347  1736  1782  1921\n"
     ]
    }
   ],
   "source": [
    "# Loading a data frame from a CSV\n",
    "salesDataDf = pd.read_csv(\"SampleData/SalesData.csv\",low_memory=False)\n",
    "print(salesDataDf)"
   ]
  },
  {
   "cell_type": "code",
   "execution_count": 4,
   "metadata": {},
   "outputs": [
    {
     "data": {
      "text/html": [
       "<div>\n",
       "<style scoped>\n",
       "    .dataframe tbody tr th:only-of-type {\n",
       "        vertical-align: middle;\n",
       "    }\n",
       "\n",
       "    .dataframe tbody tr th {\n",
       "        vertical-align: top;\n",
       "    }\n",
       "\n",
       "    .dataframe thead th {\n",
       "        text-align: right;\n",
       "    }\n",
       "</style>\n",
       "<table border=\"1\" class=\"dataframe\">\n",
       "  <thead>\n",
       "    <tr style=\"text-align: right;\">\n",
       "      <th></th>\n",
       "      <th>Region</th>\n",
       "      <th>Country</th>\n",
       "      <th>Product</th>\n",
       "      <th>WK_1</th>\n",
       "      <th>WK_2</th>\n",
       "      <th>WK_3</th>\n",
       "      <th>Wk_4</th>\n",
       "    </tr>\n",
       "  </thead>\n",
       "  <tbody>\n",
       "    <tr>\n",
       "      <th>0</th>\n",
       "      <td>America</td>\n",
       "      <td>USA</td>\n",
       "      <td>Laptop</td>\n",
       "      <td>1241</td>\n",
       "      <td>1160</td>\n",
       "      <td>1929</td>\n",
       "      <td>1174</td>\n",
       "    </tr>\n",
       "    <tr>\n",
       "      <th>1</th>\n",
       "      <td>America</td>\n",
       "      <td>USA</td>\n",
       "      <td>Phone</td>\n",
       "      <td>1098</td>\n",
       "      <td>1092</td>\n",
       "      <td>1089</td>\n",
       "      <td>1819</td>\n",
       "    </tr>\n",
       "    <tr>\n",
       "      <th>2</th>\n",
       "      <td>America</td>\n",
       "      <td>Canada</td>\n",
       "      <td>Laptop</td>\n",
       "      <td>1441</td>\n",
       "      <td>1099</td>\n",
       "      <td>1950</td>\n",
       "      <td>1394</td>\n",
       "    </tr>\n",
       "    <tr>\n",
       "      <th>3</th>\n",
       "      <td>America</td>\n",
       "      <td>Canada</td>\n",
       "      <td>Phone</td>\n",
       "      <td>1990</td>\n",
       "      <td>1057</td>\n",
       "      <td>1656</td>\n",
       "      <td>1060</td>\n",
       "    </tr>\n",
       "    <tr>\n",
       "      <th>4</th>\n",
       "      <td>Europe</td>\n",
       "      <td>Belgium</td>\n",
       "      <td>Laptop</td>\n",
       "      <td>1084</td>\n",
       "      <td>1116</td>\n",
       "      <td>1002</td>\n",
       "      <td>1566</td>\n",
       "    </tr>\n",
       "    <tr>\n",
       "      <th>5</th>\n",
       "      <td>Europe</td>\n",
       "      <td>Belgium</td>\n",
       "      <td>Phone</td>\n",
       "      <td>1574</td>\n",
       "      <td>1958</td>\n",
       "      <td>1793</td>\n",
       "      <td>1213</td>\n",
       "    </tr>\n",
       "    <tr>\n",
       "      <th>6</th>\n",
       "      <td>Europe</td>\n",
       "      <td>Finland</td>\n",
       "      <td>Laptop</td>\n",
       "      <td>1325</td>\n",
       "      <td>1374</td>\n",
       "      <td>1300</td>\n",
       "      <td>1579</td>\n",
       "    </tr>\n",
       "    <tr>\n",
       "      <th>7</th>\n",
       "      <td>Europe</td>\n",
       "      <td>Finland</td>\n",
       "      <td>Phone</td>\n",
       "      <td>1347</td>\n",
       "      <td>1736</td>\n",
       "      <td>1782</td>\n",
       "      <td>1921</td>\n",
       "    </tr>\n",
       "  </tbody>\n",
       "</table>\n",
       "</div>"
      ],
      "text/plain": [
       "    Region  Country Product  WK_1  WK_2  WK_3  Wk_4\n",
       "0  America      USA  Laptop  1241  1160  1929  1174\n",
       "1  America      USA   Phone  1098  1092  1089  1819\n",
       "2  America   Canada  Laptop  1441  1099  1950  1394\n",
       "3  America   Canada   Phone  1990  1057  1656  1060\n",
       "4   Europe  Belgium  Laptop  1084  1116  1002  1566\n",
       "5   Europe  Belgium   Phone  1574  1958  1793  1213\n",
       "6   Europe  Finland  Laptop  1325  1374  1300  1579\n",
       "7   Europe  Finland   Phone  1347  1736  1782  1921"
      ]
     },
     "metadata": {},
     "output_type": "display_data"
    }
   ],
   "source": [
    "salesdf1 = pd.read_excel(\"SampleData/SalesData.xlsx\")\n",
    "display(salesdf1)"
   ]
  },
  {
   "cell_type": "code",
   "execution_count": 6,
   "metadata": {},
   "outputs": [
    {
     "name": "stdout",
     "output_type": "stream",
     "text": [
      "    region  country       car   Jan   Feb   Mar\n",
      "0      AMR      USA      Audi  1269  1234  1113\n",
      "1      AMR      USA       BMW  1595   371  1074\n",
      "2      AMR      USA  Mercedes  1281   722  1600\n",
      "3      AMR   Canada      Audi   765   960  1491\n",
      "4      AMR   Canada       BMW   562  1889  1832\n",
      "5      AMR   Canada  Mercedes   349   884  1799\n",
      "6   EUROPE  Austria      Audi   191  1600  1817\n",
      "7   EUROPE  Austria       BMW  1172  1282   461\n",
      "8   EUROPE  Austria  Mercedes   392  1019  1575\n",
      "9   EUROPE  Belgium      Audi   655  1278   463\n",
      "10  EUROPE  Belgium       BMW  1016  1255   502\n",
      "11  EUROPE  Belgium  Mercedes   332   720   708\n"
     ]
    }
   ],
   "source": [
    "#Create a data frame from list of dictionaries\n",
    "regionCountry = {\"AMR\":[\"USA\",\"Canada\"],\"EUROPE\":[\"Austria\",\"Belgium\"]}\n",
    "cars = [\"Audi\",\"BMW\",\"Mercedes\"]\n",
    "months = [\"Jan\",\"Feb\",\"Mar\"]\n",
    "salesData = []\n",
    "for region,countries in regionCountry.items():\n",
    "    for country in countries:\n",
    "        for car in cars:\n",
    "            salesRecord = {\"region\":region,\"country\":country,\"car\":car}\n",
    "            for month in months:\n",
    "                salesRecord[month] = random.randint(100,2000)\n",
    "             \n",
    "            salesData.append(salesRecord)\n",
    "            \n",
    "df1 = pd.DataFrame(salesData)\n",
    "print(df1)"
   ]
  },
  {
   "cell_type": "code",
   "execution_count": 3,
   "metadata": {},
   "outputs": [
    {
     "name": "stdout",
     "output_type": "stream",
     "text": [
      "        0\n",
      "0  Winter\n",
      "1  Spring\n",
      "2  Summer\n",
      "3    Fall\n"
     ]
    }
   ],
   "source": [
    "# Create DataFrame from a List\n",
    "seasons = ['Winter','Spring','Summer','Fall']\n",
    "df2 = pd.DataFrame(seasons)\n",
    "print(df2)"
   ]
  },
  {
   "cell_type": "code",
   "execution_count": 10,
   "metadata": {},
   "outputs": [
    {
     "name": "stdout",
     "output_type": "stream",
     "text": [
      "      a     b     c     d\n",
      "1   100   200   300  None\n",
      "2   400   500   600  None\n",
      "3  John  Jane  Mary   Jin\n"
     ]
    }
   ],
   "source": [
    "# Create a DataFrame from an Array of Array\n",
    "data = [[100,200,300],\n",
    "        [400,500,600],\n",
    "        ['John','Jane','Mary','Jin']\n",
    "       ]\n",
    "df3 = pd.DataFrame(data,index=[1,2,3],columns=['a','b','c','d'])\n",
    "print(df3)"
   ]
  },
  {
   "cell_type": "code",
   "execution_count": 13,
   "metadata": {},
   "outputs": [
    {
     "name": "stdout",
     "output_type": "stream",
     "text": [
      "       a    b    c\n",
      "n v               \n",
      "d 1  100  200  400\n",
      "  2  200  300  500\n",
      "e 2  300  400  600\n"
     ]
    }
   ],
   "source": [
    "# Create a multi index data frame\n",
    "df = pd.DataFrame(\n",
    "{\n",
    "    \"a\":[100,200,300],\n",
    "    \"b\":[200,300,400],\n",
    "    \"c\":[400,500,600]\n",
    "}, index = pd.MultiIndex.from_tuples(\n",
    "[('d', 1), ('d', 2),\n",
    "          ('e', 2)], names=['n', 'v']))\n",
    "print(df)"
   ]
  },
  {
   "cell_type": "code",
   "execution_count": 7,
   "metadata": {},
   "outputs": [
    {
     "name": "stdout",
     "output_type": "stream",
     "text": [
      "          name  score\n",
      "0  Debasis Das  100.0\n",
      "1     John Doe   98.0\n",
      "2     Jane Doe   93.0\n"
     ]
    }
   ],
   "source": [
    "# Creating a DataFrame by passing an arrays of values and an array of column header names:\n",
    "df4 = pd.DataFrame([['Debasis Das',100],['John Doe',98],['Jane Doe',93]], columns = [\"name\",\"score\"],dtype = float)\n",
    "print(df4)"
   ]
  },
  {
   "cell_type": "code",
   "execution_count": 8,
   "metadata": {},
   "outputs": [
    {
     "name": "stdout",
     "output_type": "stream",
     "text": [
      "       names  score\n",
      "0   John Doe     90\n",
      "1   Jane Doe     91\n",
      "2  Mary Jane     93\n"
     ]
    }
   ],
   "source": [
    "# Create a DataFrame from a Dictionary:\n",
    "dictionary = {\"names\":[\"John Doe\",\"Jane Doe\",\"Mary Jane\"], \"score\":[90,91,93]}\n",
    "df5 = pd.DataFrame(dictionary)\n",
    "print(df5)\n"
   ]
  },
  {
   "cell_type": "code",
   "execution_count": 31,
   "metadata": {},
   "outputs": [
    {
     "data": {
      "text/html": [
       "<div>\n",
       "<style scoped>\n",
       "    .dataframe tbody tr th:only-of-type {\n",
       "        vertical-align: middle;\n",
       "    }\n",
       "\n",
       "    .dataframe tbody tr th {\n",
       "        vertical-align: top;\n",
       "    }\n",
       "\n",
       "    .dataframe thead th {\n",
       "        text-align: right;\n",
       "    }\n",
       "</style>\n",
       "<table border=\"1\" class=\"dataframe\">\n",
       "  <thead>\n",
       "    <tr style=\"text-align: right;\">\n",
       "      <th></th>\n",
       "      <th>names</th>\n",
       "      <th>age</th>\n",
       "      <th>score</th>\n",
       "    </tr>\n",
       "  </thead>\n",
       "  <tbody>\n",
       "    <tr>\n",
       "      <th>0</th>\n",
       "      <td>John Doe</td>\n",
       "      <td>30</td>\n",
       "      <td>NaN</td>\n",
       "    </tr>\n",
       "    <tr>\n",
       "      <th>1</th>\n",
       "      <td>Jane Doe</td>\n",
       "      <td>10</td>\n",
       "      <td>98.0</td>\n",
       "    </tr>\n",
       "  </tbody>\n",
       "</table>\n",
       "</div>"
      ],
      "text/plain": [
       "      names  age  score\n",
       "0  John Doe   30    NaN\n",
       "1  Jane Doe   10   98.0"
      ]
     },
     "metadata": {},
     "output_type": "display_data"
    }
   ],
   "source": [
    "# Create a DataFrame from a List of Dictionaries:\n",
    "\n",
    "listOfDict = [{\"names\":\"John Doe\", \"age\":30},{\"names\":\"Jane Doe\", \"age\":10, \"score\":98.0}]\n",
    "df6 = pd.DataFrame(listOfDict)\n",
    "display(df6)"
   ]
  },
  {
   "cell_type": "code",
   "execution_count": 9,
   "metadata": {},
   "outputs": [
    {
     "name": "stdout",
     "output_type": "stream",
     "text": [
      "   Score\n",
      "0    100\n",
      "1     20\n",
      "2     30\n",
      "3     80\n",
      "4     90\n",
      "   Score Grade\n",
      "0    100     A\n",
      "1     20     F\n",
      "2     30     F\n",
      "3     80     B\n",
      "4     90     A\n"
     ]
    }
   ],
   "source": [
    "# Add a column to the DataFrame based on a condition:\n",
    "\n",
    "df7 = pd.DataFrame({'Score':[100,20,30,80,90]})\n",
    "print(df7)\n",
    "df7.loc[df7.Score <= 80, \"Grade\"] = \"B\"\n",
    "df7.loc[df7.Score > 80, \"Grade\"] = \"A\"\n",
    "df7.loc[df7.Score < 35, \"Grade\"] = \"F\"\n",
    "print(df7)\n"
   ]
  },
  {
   "cell_type": "code",
   "execution_count": 11,
   "metadata": {},
   "outputs": [
    {
     "name": "stdout",
     "output_type": "stream",
     "text": [
      "                Monday  Tuesday  Wednesday  Thursday  Friday\n",
      "Temp Morning        98       98         98        98      98\n",
      "Temp Afternoon      98       98         98        98      98\n",
      "Temp Evening        98       98         98        98      98\n"
     ]
    }
   ],
   "source": [
    "# Creating a DataFrame from a numpy array:\n",
    "\n",
    "df8 = pd.DataFrame(np.random.randint(low=90, high=100), columns=['Monday', 'Tuesday', 'Wednesday', 'Thursday', 'Friday'],index=['Temp Morning', 'Temp Afternoon', 'Temp Evening'])\n",
    "print(df8)"
   ]
  },
  {
   "cell_type": "code",
   "execution_count": 12,
   "metadata": {},
   "outputs": [
    {
     "name": "stdout",
     "output_type": "stream",
     "text": [
      "     Region  Country Product          wk1          wk2          wk3\n",
      "0  Americas      USA   Phone  1160.968594  1388.322110  1412.185520\n",
      "1  Americas      USA      TV  1794.859113  1770.758286  1125.346636\n",
      "2  Americas   Mexico   Phone  1952.839220  1623.881235  1621.388295\n",
      "3  Americas   Mexico      TV  1426.614261  1343.331160  1871.506235\n",
      "4    Europe  Belgium   Phone  1711.601714  1379.586115  1510.875070\n",
      "5    Europe  Belgium      TV  1088.516800  1232.987273  1705.042338\n",
      "6    Europe  Finland   Phone  1379.155027  1024.696066  1295.029629\n",
      "7    Europe  Finland      TV  1219.446740  1963.107658  1030.649401\n"
     ]
    }
   ],
   "source": [
    "# Creating a DataFrame with Random Values in few columns\n",
    "\n",
    "salesData = {\"Region\":[\"Americas\",\"Americas\",\"Americas\",\"Americas\",\"Europe\",\"Europe\",\"Europe\",\"Europe\"],\n",
    " \"Country\":[\"USA\",\"USA\",\"Mexico\",\"Mexico\",\"Belgium\",\"Belgium\",\"Finland\",\"Finland\"],\n",
    " \"Product\":[\"Phone\",\"TV\",\"Phone\",\"TV\",\"Phone\",\"TV\",\"Phone\",\"TV\"],\n",
    " \"wk1\":np.random.uniform(1000,2000,8),\n",
    " \"wk2\":np.random.uniform(1000,2000,8),\n",
    " \"wk3\":np.random.uniform(1000,2000,8)\n",
    " }\n",
    "salesDF = pd.DataFrame(salesData)\n",
    "print(salesDF)\n"
   ]
  },
  {
   "cell_type": "code",
   "execution_count": 13,
   "metadata": {},
   "outputs": [
    {
     "name": "stdout",
     "output_type": "stream",
     "text": [
      "     Region  Country Product          wk1          wk2          wk3  \\\n",
      "0  Americas      USA   Phone  1160.968594  1388.322110  1412.185520   \n",
      "1  Americas      USA      TV  1794.859113  1770.758286  1125.346636   \n",
      "2  Americas   Mexico   Phone  1952.839220  1623.881235  1621.388295   \n",
      "3  Americas   Mexico      TV  1426.614261  1343.331160  1871.506235   \n",
      "4    Europe  Belgium   Phone  1711.601714  1379.586115  1510.875070   \n",
      "5    Europe  Belgium      TV  1088.516800  1232.987273  1705.042338   \n",
      "6    Europe  Finland   Phone  1379.155027  1024.696066  1295.029629   \n",
      "7    Europe  Finland      TV  1219.446740  1963.107658  1030.649401   \n",
      "\n",
      "         Total  Total (K)  \n",
      "0  3961.476224   3.961476  \n",
      "1  4690.964035   4.690964  \n",
      "2  5198.108749   5.198109  \n",
      "3  4641.451657   4.641452  \n",
      "4  4602.062898   4.602063  \n",
      "5  4026.546412   4.026546  \n",
      "6  3698.880722   3.698881  \n",
      "7  4213.203799   4.213204  \n"
     ]
    }
   ],
   "source": [
    "# Adding New Columns to an Existing DataFrame:\n",
    "\n",
    "salesDF[\"Total\"] = salesDF['wk1'] + salesDF['wk2'] + salesDF['wk3']\n",
    "salesDF[\"Total (K)\"] = salesDF[\"Total\"] /1000\n",
    "print(salesDF)\n"
   ]
  },
  {
   "cell_type": "code",
   "execution_count": 14,
   "metadata": {},
   "outputs": [
    {
     "name": "stdout",
     "output_type": "stream",
     "text": [
      "     Region  Country Product          wk1   week1_k\n",
      "0  Americas      USA   Phone  1160.968594  1.160969\n",
      "1  Americas      USA      TV  1794.859113  1.794859\n",
      "2  Americas   Mexico   Phone  1952.839220  1.952839\n",
      "3  Americas   Mexico      TV  1426.614261  1.426614\n",
      "4    Europe  Belgium   Phone  1711.601714  1.711602\n",
      "5    Europe  Belgium      TV  1088.516800  1.088517\n",
      "6    Europe  Finland   Phone  1379.155027  1.379155\n",
      "7    Europe  Finland      TV  1219.446740  1.219447\n"
     ]
    }
   ],
   "source": [
    "# Creating a DataFrame using Assign Function\n",
    "# Assign returns a copy of the data frame as a new object with the new columns added to the original data frame.\n",
    "salesDF1 = salesDF[[\"Region\",\"Country\",\"Product\",\"wk1\"]]\n",
    "salesDF2 = salesDF1.assign(week1_k=lambda x: salesDF1['wk1']/1000)\n",
    "print(salesDF2)\n"
   ]
  },
  {
   "cell_type": "markdown",
   "metadata": {},
   "source": [
    "## Create a DataFrame by merging two DataFrames"
   ]
  },
  {
   "cell_type": "code",
   "execution_count": 17,
   "metadata": {},
   "outputs": [
    {
     "name": "stdout",
     "output_type": "stream",
     "text": [
      "  Country  Jan_Sales\n",
      "0     USA       1000\n",
      "1  Mexico       2000\n",
      "2  Brazil       3000\n",
      "   Country  Feb_Sales\n",
      "0   Canada       4000\n",
      "1   Mexico       5000\n",
      "2   Brazil       6000\n",
      "3  Belgium       7000\n"
     ]
    }
   ],
   "source": [
    "data1 = {\"Country\":[\"USA\",\"Mexico\",\"Brazil\"],\"Jan_Sales\":[1000,2000,3000]}\n",
    "data2 = {\"Country\":[\"Canada\",\"Mexico\",\"Brazil\",\"Belgium\"],\"Feb_Sales\":[4000,5000,6000,7000]}\n",
    "df1 = pd.DataFrame(data1)\n",
    "df2 = pd.DataFrame(data2)\n",
    "#Pandas merge function can automatically detect which columns are common between the dataframes \n",
    "#Pandas will use the common columns to merge the two dataframes\n",
    "print(df1)\n",
    "print(df2)"
   ]
  },
  {
   "cell_type": "code",
   "execution_count": 18,
   "metadata": {},
   "outputs": [
    {
     "name": "stdout",
     "output_type": "stream",
     "text": [
      "  Country  Jan_Sales  Feb_Sales\n",
      "0  Mexico       2000       5000\n",
      "1  Brazil       3000       6000\n"
     ]
    }
   ],
   "source": [
    "#Inner Merge\n",
    "df4 = df1.merge(df2,how='inner')\n",
    "print(df4)\n"
   ]
  },
  {
   "cell_type": "code",
   "execution_count": 19,
   "metadata": {},
   "outputs": [
    {
     "name": "stdout",
     "output_type": "stream",
     "text": [
      "   Country  Jan_Sales  Feb_Sales\n",
      "0      USA     1000.0        NaN\n",
      "1   Mexico     2000.0     5000.0\n",
      "2   Brazil     3000.0     6000.0\n",
      "3   Canada        NaN     4000.0\n",
      "4  Belgium        NaN     7000.0\n"
     ]
    }
   ],
   "source": [
    "#Outer Merge\n",
    "df5 = df1.merge(df2,how='outer')\n",
    "print(df5)"
   ]
  },
  {
   "cell_type": "code",
   "execution_count": 20,
   "metadata": {},
   "outputs": [
    {
     "name": "stdout",
     "output_type": "stream",
     "text": [
      "  Country  Jan_Sales  Feb_Sales\n",
      "0     USA       1000        NaN\n",
      "1  Mexico       2000     5000.0\n",
      "2  Brazil       3000     6000.0\n"
     ]
    }
   ],
   "source": [
    "#Left Merge\n",
    "df6 = df1.merge(df2,how='left')\n",
    "print(df6)"
   ]
  },
  {
   "cell_type": "code",
   "execution_count": 21,
   "metadata": {},
   "outputs": [
    {
     "name": "stdout",
     "output_type": "stream",
     "text": [
      "   Country  Jan_Sales  Feb_Sales\n",
      "0   Canada        NaN       4000\n",
      "1   Mexico     2000.0       5000\n",
      "2   Brazil     3000.0       6000\n",
      "3  Belgium        NaN       7000\n"
     ]
    }
   ],
   "source": [
    "#Right Merge\n",
    "df7 = df1.merge(df2,how='right')\n",
    "print(df7)"
   ]
  },
  {
   "cell_type": "code",
   "execution_count": null,
   "metadata": {},
   "outputs": [],
   "source": []
  }
 ],
 "metadata": {
  "kernelspec": {
   "display_name": "Python 3",
   "language": "python",
   "name": "python3"
  },
  "language_info": {
   "codemirror_mode": {
    "name": "ipython",
    "version": 3
   },
   "file_extension": ".py",
   "mimetype": "text/x-python",
   "name": "python",
   "nbconvert_exporter": "python",
   "pygments_lexer": "ipython3",
   "version": "3.8.5"
  }
 },
 "nbformat": 4,
 "nbformat_minor": 4
}
